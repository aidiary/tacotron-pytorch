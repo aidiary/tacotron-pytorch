{
 "cells": [
  {
   "cell_type": "code",
   "execution_count": 3,
   "metadata": {},
   "outputs": [],
   "source": [
    "%reload_ext autoreload\n",
    "%autoreload 2"
   ]
  },
  {
   "cell_type": "code",
   "execution_count": 42,
   "metadata": {},
   "outputs": [],
   "source": [
    "import sys\n",
    "import matplotlib.pyplot as plt\n",
    "%matplotlib inline\n",
    "\n",
    "import torch.utils.data\n",
    "\n",
    "sys.path.append('..')\n",
    "from utils.audio import AudioProcessor\n",
    "from dataset import TTSDataset, preprocess_ljspeech"
   ]
  },
  {
   "cell_type": "code",
   "execution_count": 7,
   "metadata": {},
   "outputs": [
    {
     "name": "stdout",
     "output_type": "stream",
     "text": [
      "AudioProcessor\n",
      "  sample_rate:22050\n",
      "  num_mels:80\n",
      "  num_freq:1025\n",
      "  frame_length_ms:50\n",
      "  frame_shift_ms:12.5\n",
      "  preemphasis:0.98\n",
      "  min_level_db:-100\n",
      "  ref_level_db:20\n",
      "  power:1.5\n",
      "  mel_fmin:0.0\n",
      "  mel_fmax:8000.0\n",
      "  griffin_lim_iters:60\n",
      "  n_fft:2048\n",
      "  hop_length:275\n",
      "  win_length:1100\n"
     ]
    }
   ],
   "source": [
    "ap = AudioProcessor()"
   ]
  },
  {
   "cell_type": "code",
   "execution_count": 61,
   "metadata": {},
   "outputs": [],
   "source": [
    "root_path = '../data/LJSpeech-1.1/'\n",
    "meta_file = 'metadata.csv'\n",
    "items = preprocess_ljspeech(root_path, meta_file)"
   ]
  },
  {
   "cell_type": "code",
   "execution_count": 62,
   "metadata": {},
   "outputs": [
    {
     "data": {
      "text/plain": [
       "13100"
      ]
     },
     "execution_count": 62,
     "metadata": {},
     "output_type": "execute_result"
    }
   ],
   "source": [
    "len(items)"
   ]
  },
  {
   "cell_type": "code",
   "execution_count": 63,
   "metadata": {},
   "outputs": [
    {
     "data": {
      "text/plain": [
       "['Printing, in the only sense with which we are at present concerned, differs from most if not from all the arts and crafts represented in the Exhibition',\n",
       " '../data/LJSpeech-1.1/wavs/LJ001-0001.wav']"
      ]
     },
     "execution_count": 63,
     "metadata": {},
     "output_type": "execute_result"
    }
   ],
   "source": [
    "items[0]"
   ]
  },
  {
   "cell_type": "code",
   "execution_count": 64,
   "metadata": {},
   "outputs": [
    {
     "name": "stdout",
     "output_type": "stream",
     "text": [
      "DataLoader initialization\n",
      "  Use phonemes: True\n",
      "  Number of instances: 13100\n"
     ]
    }
   ],
   "source": [
    "dataset = TTSDataset(7, 'phoneme_cleaners', ap, items, phoneme_cache_path='ljspeech_phonemes')"
   ]
  },
  {
   "cell_type": "code",
   "execution_count": 65,
   "metadata": {},
   "outputs": [
    {
     "data": {
      "text/plain": [
       "13100"
      ]
     },
     "execution_count": 65,
     "metadata": {},
     "output_type": "execute_result"
    }
   ],
   "source": [
    "len(dataset)"
   ]
  },
  {
   "cell_type": "code",
   "execution_count": 66,
   "metadata": {},
   "outputs": [
    {
     "data": {
      "text/plain": [
       "dict_keys(['text', 'wav', 'item_idx'])"
      ]
     },
     "execution_count": 66,
     "metadata": {},
     "output_type": "execute_result"
    }
   ],
   "source": [
    "sample = dataset[0]\n",
    "sample.keys()"
   ]
  },
  {
   "cell_type": "code",
   "execution_count": 67,
   "metadata": {},
   "outputs": [
    {
     "data": {
      "text/plain": [
       "array([ 17,  77,  63,  15,  21,  63,  33, 122, 128,  63,  15,  30,  63,\n",
       "       128,  16,  89,  15,  13,  10, 128,  20,  50,  15,  20, 128,  24,\n",
       "        63,  30, 128,  24,  63,  21,  85, 128,  24,  10, 110, 128,  40,\n",
       "       110,  77, 128,  28,  21, 128,  17,  77,  50,  27,  48,  15,  21,\n",
       "       128,  12,  48,  15,  20,  51, 110,  15,   6, 122, 128,   6,  63,\n",
       "         8,  49,  27, 128,   8,  77,  91,  14, 128,  14,  16,  89,  20,\n",
       "        21, 128,  63,   8, 128,  15,  40, 110,  21, 128,   8,  77,  91,\n",
       "        14, 128,  43, 110,  13, 128,  30,  63, 128,  40, 110,  77,  21,\n",
       "        20, 128,  28,  15,   6, 128,  12,  77,  28,   8,  21,  20, 128,\n",
       "        77,  50,  17,  77,  63,  27,  50,  15,  21, 116,   6, 128,  63,\n",
       "        15,  30,  63, 128,  50,  12,  20,  63,   4,  63,  85,  48,  15],\n",
       "      dtype=int32)"
      ]
     },
     "execution_count": 67,
     "metadata": {},
     "output_type": "execute_result"
    }
   ],
   "source": [
    "sample['text']"
   ]
  },
  {
   "cell_type": "code",
   "execution_count": 68,
   "metadata": {},
   "outputs": [
    {
     "data": {
      "text/plain": [
       "[<matplotlib.lines.Line2D at 0x134058f90>]"
      ]
     },
     "execution_count": 68,
     "metadata": {},
     "output_type": "execute_result"
    },
    {
     "data": {
      "image/png": "[encoded data removed]",
      "text/plain": [
       "<Figure size 432x288 with 1 Axes>"
      ]
     },
     "metadata": {
      "needs_background": "light"
     },
     "output_type": "display_data"
    }
   ],
   "source": [
    "plt.plot(sample['wav'])"
   ]
  },
  {
   "cell_type": "code",
   "execution_count": 69,
   "metadata": {},
   "outputs": [
    {
     "data": {
      "text/plain": [
       "'../data/LJSpeech-1.1/wavs/LJ001-0001.wav'"
      ]
     },
     "execution_count": 69,
     "metadata": {},
     "output_type": "execute_result"
    }
   ],
   "source": [
    "sample['item_idx']"
   ]
  },
  {
   "cell_type": "code",
   "execution_count": 99,
   "metadata": {},
   "outputs": [],
   "source": [
    "loader = torch.utils.data.DataLoader(dataset,\n",
    "                                     batch_size=32,\n",
    "                                     shuffle=False,\n",
    "                                     collate_fn=dataset.collate_fn,\n",
    "                                     drop_last=False,\n",
    "                                     num_workers=0,\n",
    "                                     pin_memory=False)"
   ]
  },
  {
   "cell_type": "code",
   "execution_count": 101,
   "metadata": {},
   "outputs": [],
   "source": [
    "batch = iter(loader).next()"
   ]
  },
  {
   "cell_type": "code",
   "execution_count": 104,
   "metadata": {},
   "outputs": [],
   "source": [
    "text, text_lengths, linear, mel, mel_lengths, stop_targets, item_idxs = batch"
   ]
  },
  {
   "cell_type": "code",
   "execution_count": 105,
   "metadata": {},
   "outputs": [
    {
     "data": {
      "text/plain": [
       "torch.Size([32, 152])"
      ]
     },
     "execution_count": 105,
     "metadata": {},
     "output_type": "execute_result"
    }
   ],
   "source": [
    "text.shape"
   ]
  },
  {
   "cell_type": "code",
   "execution_count": 108,
   "metadata": {},
   "outputs": [
    {
     "name": "stdout",
     "output_type": "stream",
     "text": [
      "torch.Size([32])\n",
      "tensor([152, 148, 143, 143, 133, 132, 131, 130, 129, 122, 119, 115, 111, 110,\n",
      "        104, 102, 102, 101, 100,  99,  94,  78,  78,  72,  71,  69,  67,  66,\n",
      "         58,  40,  29,  20])\n"
     ]
    }
   ],
   "source": [
    "print(text_lengths.shape)\n",
    "print(text_lengths)"
   ]
  },
  {
   "cell_type": "code",
   "execution_count": 111,
   "metadata": {},
   "outputs": [
    {
     "data": {
      "text/plain": [
       "torch.Size([32, 805, 1025])"
      ]
     },
     "execution_count": 111,
     "metadata": {},
     "output_type": "execute_result"
    }
   ],
   "source": [
    "linear.shape  # (batch, seq_len, input_size)"
   ]
  },
  {
   "cell_type": "code",
   "execution_count": 113,
   "metadata": {},
   "outputs": [
    {
     "data": {
      "text/plain": [
       "torch.Size([32, 805, 80])"
      ]
     },
     "execution_count": 113,
     "metadata": {},
     "output_type": "execute_result"
    }
   ],
   "source": [
    "mel.shape"
   ]
  },
  {
   "cell_type": "markdown",
   "metadata": {},
   "source": [
    "- melはr=7で割り切れるようにpaddingした状態のサイズ\n",
    "- 一方でmel_lengthsはpaddingする前のサイズ"
   ]
  },
  {
   "cell_type": "code",
   "execution_count": 115,
   "metadata": {},
   "outputs": [
    {
     "name": "stdout",
     "output_type": "stream",
     "text": [
      "torch.Size([32])\n",
      "tensor([799, 742, 777, 776, 631, 775, 652, 674, 679, 692, 564, 631, 709, 602,\n",
      "        712, 569, 607, 662, 516, 567, 556, 490, 414, 424, 457, 428, 363, 477,\n",
      "        376, 209, 154, 145])\n"
     ]
    }
   ],
   "source": [
    "print(mel_lengths.shape)\n",
    "print(mel_lengths)"
   ]
  },
  {
   "cell_type": "code",
   "execution_count": 116,
   "metadata": {},
   "outputs": [
    {
     "data": {
      "text/plain": [
       "torch.Size([32, 805])"
      ]
     },
     "execution_count": 116,
     "metadata": {},
     "output_type": "execute_result"
    }
   ],
   "source": [
    "stop_targets.shape"
   ]
  }
 ],
 "metadata": {
  "kernelspec": {
   "display_name": "Python 3",
   "language": "python",
   "name": "python3"
  },
  "language_info": {
   "codemirror_mode": {
    "name": "ipython",
    "version": 3
   },
   "file_extension": ".py",
   "mimetype": "text/x-python",
   "name": "python",
   "nbconvert_exporter": "python",
   "pygments_lexer": "ipython3",
   "version": "3.7.4"
  },
  "nbTranslate": {
   "displayLangs": [
    "*"
   ],
   "hotkey": "alt-t",
   "langInMainMenu": true,
   "sourceLang": "en",
   "targetLang": "fr",
   "useGoogleTranslate": true
  }
 },
 "nbformat": 4,
 "nbformat_minor": 2
}
