{
 "cells": [
  {
   "cell_type": "code",
   "execution_count": 48,
   "metadata": {},
   "outputs": [],
   "source": [
    "%reload_ext autoreload\n",
    "%autoreload 2"
   ]
  },
  {
   "cell_type": "code",
   "execution_count": 49,
   "metadata": {},
   "outputs": [],
   "source": [
    "import sys\n",
    "sys.path.append('..')"
   ]
  },
  {
   "cell_type": "code",
   "execution_count": 50,
   "metadata": {},
   "outputs": [],
   "source": [
    "import torch\n",
    "from model import Tacotron"
   ]
  },
  {
   "cell_type": "code",
   "execution_count": 51,
   "metadata": {},
   "outputs": [],
   "source": [
    "tacotron = Tacotron(num_chars=71, r=7, linear_dim=1025, mel_dim=80)"
   ]
  },
  {
   "cell_type": "code",
   "execution_count": 52,
   "metadata": {},
   "outputs": [
    {
     "data": {
      "text/plain": [
       "Tacotron(\n",
       "  (embedding): Embedding(71, 256)\n",
       "  (encoder): Encoder(\n",
       "    (prenet): Prenet(\n",
       "      (layers): ModuleList(\n",
       "        (0): Linear(\n",
       "          (linear_layer): Linear(in_features=256, out_features=256, bias=True)\n",
       "        )\n",
       "        (1): Linear(\n",
       "          (linear_layer): Linear(in_features=256, out_features=128, bias=True)\n",
       "        )\n",
       "      )\n",
       "    )\n",
       "    (cbhg): CBHG(\n",
       "      (relu): ReLU()\n",
       "      (conv1d_banks): ModuleList(\n",
       "        (0): BatchNormConv1d(\n",
       "          (padder): ConstantPad1d(padding=[0, 0], value=0)\n",
       "          (conv1d): Conv1d(128, 128, kernel_size=(1,), stride=(1,), bias=False)\n",
       "          (bn): BatchNorm1d(128, eps=0.001, momentum=0.99, affine=True, track_running_stats=True)\n",
       "          (activation): ReLU()\n",
       "        )\n",
       "        (1): BatchNormConv1d(\n",
       "          (padder): ConstantPad1d(padding=[0, 1], value=0)\n",
       "          (conv1d): Conv1d(128, 128, kernel_size=(2,), stride=(1,), bias=False)\n",
       "          (bn): BatchNorm1d(128, eps=0.001, momentum=0.99, affine=True, track_running_stats=True)\n",
       "          (activation): ReLU()\n",
       "        )\n",
       "        (2): BatchNormConv1d(\n",
       "          (padder): ConstantPad1d(padding=[1, 1], value=0)\n",
       "          (conv1d): Conv1d(128, 128, kernel_size=(3,), stride=(1,), bias=False)\n",
       "          (bn): BatchNorm1d(128, eps=0.001, momentum=0.99, affine=True, track_running_stats=True)\n",
       "          (activation): ReLU()\n",
       "        )\n",
       "        (3): BatchNormConv1d(\n",
       "          (padder): ConstantPad1d(padding=[1, 2], value=0)\n",
       "          (conv1d): Conv1d(128, 128, kernel_size=(4,), stride=(1,), bias=False)\n",
       "          (bn): BatchNorm1d(128, eps=0.001, momentum=0.99, affine=True, track_running_stats=True)\n",
       "          (activation): ReLU()\n",
       "        )\n",
       "        (4): BatchNormConv1d(\n",
       "          (padder): ConstantPad1d(padding=[2, 2], value=0)\n",
       "          (conv1d): Conv1d(128, 128, kernel_size=(5,), stride=(1,), bias=False)\n",
       "          (bn): BatchNorm1d(128, eps=0.001, momentum=0.99, affine=True, track_running_stats=True)\n",
       "          (activation): ReLU()\n",
       "        )\n",
       "        (5): BatchNormConv1d(\n",
       "          (padder): ConstantPad1d(padding=[2, 3], value=0)\n",
       "          (conv1d): Conv1d(128, 128, kernel_size=(6,), stride=(1,), bias=False)\n",
       "          (bn): BatchNorm1d(128, eps=0.001, momentum=0.99, affine=True, track_running_stats=True)\n",
       "          (activation): ReLU()\n",
       "        )\n",
       "        (6): BatchNormConv1d(\n",
       "          (padder): ConstantPad1d(padding=[3, 3], value=0)\n",
       "          (conv1d): Conv1d(128, 128, kernel_size=(7,), stride=(1,), bias=False)\n",
       "          (bn): BatchNorm1d(128, eps=0.001, momentum=0.99, affine=True, track_running_stats=True)\n",
       "          (activation): ReLU()\n",
       "        )\n",
       "        (7): BatchNormConv1d(\n",
       "          (padder): ConstantPad1d(padding=[3, 4], value=0)\n",
       "          (conv1d): Conv1d(128, 128, kernel_size=(8,), stride=(1,), bias=False)\n",
       "          (bn): BatchNorm1d(128, eps=0.001, momentum=0.99, affine=True, track_running_stats=True)\n",
       "          (activation): ReLU()\n",
       "        )\n",
       "        (8): BatchNormConv1d(\n",
       "          (padder): ConstantPad1d(padding=[4, 4], value=0)\n",
       "          (conv1d): Conv1d(128, 128, kernel_size=(9,), stride=(1,), bias=False)\n",
       "          (bn): BatchNorm1d(128, eps=0.001, momentum=0.99, affine=True, track_running_stats=True)\n",
       "          (activation): ReLU()\n",
       "        )\n",
       "        (9): BatchNormConv1d(\n",
       "          (padder): ConstantPad1d(padding=[4, 5], value=0)\n",
       "          (conv1d): Conv1d(128, 128, kernel_size=(10,), stride=(1,), bias=False)\n",
       "          (bn): BatchNorm1d(128, eps=0.001, momentum=0.99, affine=True, track_running_stats=True)\n",
       "          (activation): ReLU()\n",
       "        )\n",
       "        (10): BatchNormConv1d(\n",
       "          (padder): ConstantPad1d(padding=[5, 5], value=0)\n",
       "          (conv1d): Conv1d(128, 128, kernel_size=(11,), stride=(1,), bias=False)\n",
       "          (bn): BatchNorm1d(128, eps=0.001, momentum=0.99, affine=True, track_running_stats=True)\n",
       "          (activation): ReLU()\n",
       "        )\n",
       "        (11): BatchNormConv1d(\n",
       "          (padder): ConstantPad1d(padding=[5, 6], value=0)\n",
       "          (conv1d): Conv1d(128, 128, kernel_size=(12,), stride=(1,), bias=False)\n",
       "          (bn): BatchNorm1d(128, eps=0.001, momentum=0.99, affine=True, track_running_stats=True)\n",
       "          (activation): ReLU()\n",
       "        )\n",
       "        (12): BatchNormConv1d(\n",
       "          (padder): ConstantPad1d(padding=[6, 6], value=0)\n",
       "          (conv1d): Conv1d(128, 128, kernel_size=(13,), stride=(1,), bias=False)\n",
       "          (bn): BatchNorm1d(128, eps=0.001, momentum=0.99, affine=True, track_running_stats=True)\n",
       "          (activation): ReLU()\n",
       "        )\n",
       "        (13): BatchNormConv1d(\n",
       "          (padder): ConstantPad1d(padding=[6, 7], value=0)\n",
       "          (conv1d): Conv1d(128, 128, kernel_size=(14,), stride=(1,), bias=False)\n",
       "          (bn): BatchNorm1d(128, eps=0.001, momentum=0.99, affine=True, track_running_stats=True)\n",
       "          (activation): ReLU()\n",
       "        )\n",
       "        (14): BatchNormConv1d(\n",
       "          (padder): ConstantPad1d(padding=[7, 7], value=0)\n",
       "          (conv1d): Conv1d(128, 128, kernel_size=(15,), stride=(1,), bias=False)\n",
       "          (bn): BatchNorm1d(128, eps=0.001, momentum=0.99, affine=True, track_running_stats=True)\n",
       "          (activation): ReLU()\n",
       "        )\n",
       "        (15): BatchNormConv1d(\n",
       "          (padder): ConstantPad1d(padding=[7, 8], value=0)\n",
       "          (conv1d): Conv1d(128, 128, kernel_size=(16,), stride=(1,), bias=False)\n",
       "          (bn): BatchNorm1d(128, eps=0.001, momentum=0.99, affine=True, track_running_stats=True)\n",
       "          (activation): ReLU()\n",
       "        )\n",
       "      )\n",
       "      (conv1d_projections): ModuleList(\n",
       "        (0): BatchNormConv1d(\n",
       "          (padder): ConstantPad1d(padding=[1, 1], value=0)\n",
       "          (conv1d): Conv1d(2048, 128, kernel_size=(3,), stride=(1,), bias=False)\n",
       "          (bn): BatchNorm1d(128, eps=0.001, momentum=0.99, affine=True, track_running_stats=True)\n",
       "          (activation): ReLU()\n",
       "        )\n",
       "        (1): BatchNormConv1d(\n",
       "          (padder): ConstantPad1d(padding=[1, 1], value=0)\n",
       "          (conv1d): Conv1d(128, 128, kernel_size=(3,), stride=(1,), bias=False)\n",
       "          (bn): BatchNorm1d(128, eps=0.001, momentum=0.99, affine=True, track_running_stats=True)\n",
       "        )\n",
       "      )\n",
       "      (highways): ModuleList(\n",
       "        (0): Highway(\n",
       "          (H): Linear(in_features=128, out_features=128, bias=True)\n",
       "          (T): Linear(in_features=128, out_features=128, bias=True)\n",
       "          (relu): ReLU()\n",
       "          (sigmoid): Sigmoid()\n",
       "        )\n",
       "        (1): Highway(\n",
       "          (H): Linear(in_features=128, out_features=128, bias=True)\n",
       "          (T): Linear(in_features=128, out_features=128, bias=True)\n",
       "          (relu): ReLU()\n",
       "          (sigmoid): Sigmoid()\n",
       "        )\n",
       "        (2): Highway(\n",
       "          (H): Linear(in_features=128, out_features=128, bias=True)\n",
       "          (T): Linear(in_features=128, out_features=128, bias=True)\n",
       "          (relu): ReLU()\n",
       "          (sigmoid): Sigmoid()\n",
       "        )\n",
       "        (3): Highway(\n",
       "          (H): Linear(in_features=128, out_features=128, bias=True)\n",
       "          (T): Linear(in_features=128, out_features=128, bias=True)\n",
       "          (relu): ReLU()\n",
       "          (sigmoid): Sigmoid()\n",
       "        )\n",
       "      )\n",
       "      (gru): GRU(128, 128, batch_first=True, bidirectional=True)\n",
       "    )\n",
       "  )\n",
       "  (decoder): Decoder(\n",
       "    (prenet): Prenet(\n",
       "      (layers): ModuleList(\n",
       "        (0): Linear(\n",
       "          (linear_layer): Linear(in_features=80, out_features=256, bias=True)\n",
       "        )\n",
       "        (1): Linear(\n",
       "          (linear_layer): Linear(in_features=256, out_features=128, bias=True)\n",
       "        )\n",
       "      )\n",
       "    )\n",
       "    (attention_rnn): GRUCell(384, 256)\n",
       "    (attention): Attention(\n",
       "      (query_layer): Linear(\n",
       "        (linear_layer): Linear(in_features=256, out_features=128, bias=False)\n",
       "      )\n",
       "      (inputs_layer): Linear(\n",
       "        (linear_layer): Linear(in_features=256, out_features=128, bias=False)\n",
       "      )\n",
       "      (v): Linear(\n",
       "        (linear_layer): Linear(in_features=128, out_features=1, bias=True)\n",
       "      )\n",
       "      (location_layer): LocationLayer(\n",
       "        (location_conv): Conv1d(2, 32, kernel_size=(31,), stride=(1,), padding=(15,), bias=False)\n",
       "        (location_dense): Linear(\n",
       "          (linear_layer): Linear(in_features=32, out_features=128, bias=False)\n",
       "        )\n",
       "      )\n",
       "    )\n",
       "    (project_to_decoder_in): Linear(in_features=512, out_features=256, bias=True)\n",
       "    (decoder_rnns): ModuleList(\n",
       "      (0): GRUCell(256, 256)\n",
       "      (1): GRUCell(256, 256)\n",
       "    )\n",
       "    (proj_to_mel): Linear(in_features=256, out_features=560, bias=True)\n",
       "    (stopnet): StopNet(\n",
       "      (dropout): Dropout(p=0.1, inplace=False)\n",
       "      (linear): Linear(in_features=816, out_features=1, bias=True)\n",
       "    )\n",
       "  )\n",
       "  (postnet): CBHG(\n",
       "    (relu): ReLU()\n",
       "    (conv1d_banks): ModuleList(\n",
       "      (0): BatchNormConv1d(\n",
       "        (padder): ConstantPad1d(padding=[0, 0], value=0)\n",
       "        (conv1d): Conv1d(80, 128, kernel_size=(1,), stride=(1,), bias=False)\n",
       "        (bn): BatchNorm1d(128, eps=0.001, momentum=0.99, affine=True, track_running_stats=True)\n",
       "        (activation): ReLU()\n",
       "      )\n",
       "      (1): BatchNormConv1d(\n",
       "        (padder): ConstantPad1d(padding=[0, 1], value=0)\n",
       "        (conv1d): Conv1d(80, 128, kernel_size=(2,), stride=(1,), bias=False)\n",
       "        (bn): BatchNorm1d(128, eps=0.001, momentum=0.99, affine=True, track_running_stats=True)\n",
       "        (activation): ReLU()\n",
       "      )\n",
       "      (2): BatchNormConv1d(\n",
       "        (padder): ConstantPad1d(padding=[1, 1], value=0)\n",
       "        (conv1d): Conv1d(80, 128, kernel_size=(3,), stride=(1,), bias=False)\n",
       "        (bn): BatchNorm1d(128, eps=0.001, momentum=0.99, affine=True, track_running_stats=True)\n",
       "        (activation): ReLU()\n",
       "      )\n",
       "      (3): BatchNormConv1d(\n",
       "        (padder): ConstantPad1d(padding=[1, 2], value=0)\n",
       "        (conv1d): Conv1d(80, 128, kernel_size=(4,), stride=(1,), bias=False)\n",
       "        (bn): BatchNorm1d(128, eps=0.001, momentum=0.99, affine=True, track_running_stats=True)\n",
       "        (activation): ReLU()\n",
       "      )\n",
       "      (4): BatchNormConv1d(\n",
       "        (padder): ConstantPad1d(padding=[2, 2], value=0)\n",
       "        (conv1d): Conv1d(80, 128, kernel_size=(5,), stride=(1,), bias=False)\n",
       "        (bn): BatchNorm1d(128, eps=0.001, momentum=0.99, affine=True, track_running_stats=True)\n",
       "        (activation): ReLU()\n",
       "      )\n",
       "      (5): BatchNormConv1d(\n",
       "        (padder): ConstantPad1d(padding=[2, 3], value=0)\n",
       "        (conv1d): Conv1d(80, 128, kernel_size=(6,), stride=(1,), bias=False)\n",
       "        (bn): BatchNorm1d(128, eps=0.001, momentum=0.99, affine=True, track_running_stats=True)\n",
       "        (activation): ReLU()\n",
       "      )\n",
       "      (6): BatchNormConv1d(\n",
       "        (padder): ConstantPad1d(padding=[3, 3], value=0)\n",
       "        (conv1d): Conv1d(80, 128, kernel_size=(7,), stride=(1,), bias=False)\n",
       "        (bn): BatchNorm1d(128, eps=0.001, momentum=0.99, affine=True, track_running_stats=True)\n",
       "        (activation): ReLU()\n",
       "      )\n",
       "      (7): BatchNormConv1d(\n",
       "        (padder): ConstantPad1d(padding=[3, 4], value=0)\n",
       "        (conv1d): Conv1d(80, 128, kernel_size=(8,), stride=(1,), bias=False)\n",
       "        (bn): BatchNorm1d(128, eps=0.001, momentum=0.99, affine=True, track_running_stats=True)\n",
       "        (activation): ReLU()\n",
       "      )\n",
       "    )\n",
       "    (conv1d_projections): ModuleList(\n",
       "      (0): BatchNormConv1d(\n",
       "        (padder): ConstantPad1d(padding=[1, 1], value=0)\n",
       "        (conv1d): Conv1d(1024, 256, kernel_size=(3,), stride=(1,), bias=False)\n",
       "        (bn): BatchNorm1d(256, eps=0.001, momentum=0.99, affine=True, track_running_stats=True)\n",
       "        (activation): ReLU()\n",
       "      )\n",
       "      (1): BatchNormConv1d(\n",
       "        (padder): ConstantPad1d(padding=[1, 1], value=0)\n",
       "        (conv1d): Conv1d(256, 80, kernel_size=(3,), stride=(1,), bias=False)\n",
       "        (bn): BatchNorm1d(80, eps=0.001, momentum=0.99, affine=True, track_running_stats=True)\n",
       "      )\n",
       "    )\n",
       "    (pre_highway): Linear(in_features=80, out_features=128, bias=False)\n",
       "    (highways): ModuleList(\n",
       "      (0): Highway(\n",
       "        (H): Linear(in_features=128, out_features=128, bias=True)\n",
       "        (T): Linear(in_features=128, out_features=128, bias=True)\n",
       "        (relu): ReLU()\n",
       "        (sigmoid): Sigmoid()\n",
       "      )\n",
       "      (1): Highway(\n",
       "        (H): Linear(in_features=128, out_features=128, bias=True)\n",
       "        (T): Linear(in_features=128, out_features=128, bias=True)\n",
       "        (relu): ReLU()\n",
       "        (sigmoid): Sigmoid()\n",
       "      )\n",
       "      (2): Highway(\n",
       "        (H): Linear(in_features=128, out_features=128, bias=True)\n",
       "        (T): Linear(in_features=128, out_features=128, bias=True)\n",
       "        (relu): ReLU()\n",
       "        (sigmoid): Sigmoid()\n",
       "      )\n",
       "      (3): Highway(\n",
       "        (H): Linear(in_features=128, out_features=128, bias=True)\n",
       "        (T): Linear(in_features=128, out_features=128, bias=True)\n",
       "        (relu): ReLU()\n",
       "        (sigmoid): Sigmoid()\n",
       "      )\n",
       "    )\n",
       "    (gru): GRU(128, 128, batch_first=True, bidirectional=True)\n",
       "  )\n",
       "  (last_linear): Linear(in_features=256, out_features=1025, bias=True)\n",
       ")"
      ]
     },
     "execution_count": 52,
     "metadata": {},
     "output_type": "execute_result"
    }
   ],
   "source": [
    "tacotron"
   ]
  },
  {
   "cell_type": "code",
   "execution_count": 53,
   "metadata": {},
   "outputs": [],
   "source": [
    "characters = torch.ones([32, 71], dtype=torch.long)\n",
    "text_lengths = torch.ones(32, dtype=torch.long)\n",
    "mel_specs = torch.rand(32, 231, 80)"
   ]
  },
  {
   "cell_type": "code",
   "execution_count": 54,
   "metadata": {},
   "outputs": [],
   "source": [
    "mel_outputs, linear_outputs, alignments, stop_tokens = tacotron(characters, text_lengths, mel_specs)"
   ]
  },
  {
   "cell_type": "code",
   "execution_count": 55,
   "metadata": {},
   "outputs": [
    {
     "data": {
      "text/plain": [
       "torch.Size([32, 231, 80])"
      ]
     },
     "execution_count": 55,
     "metadata": {},
     "output_type": "execute_result"
    }
   ],
   "source": [
    "mel_outputs.shape"
   ]
  },
  {
   "cell_type": "code",
   "execution_count": 56,
   "metadata": {},
   "outputs": [
    {
     "data": {
      "text/plain": [
       "torch.Size([32, 231, 1025])"
      ]
     },
     "execution_count": 56,
     "metadata": {},
     "output_type": "execute_result"
    }
   ],
   "source": [
    "linear_outputs.shape"
   ]
  },
  {
   "cell_type": "code",
   "execution_count": 57,
   "metadata": {},
   "outputs": [
    {
     "data": {
      "text/plain": [
       "torch.Size([32, 33, 71])"
      ]
     },
     "execution_count": 57,
     "metadata": {},
     "output_type": "execute_result"
    }
   ],
   "source": [
    "alignments.shape"
   ]
  },
  {
   "cell_type": "code",
   "execution_count": 58,
   "metadata": {},
   "outputs": [
    {
     "data": {
      "text/plain": [
       "torch.Size([32, 33])"
      ]
     },
     "execution_count": 58,
     "metadata": {},
     "output_type": "execute_result"
    }
   ],
   "source": [
    "stop_tokens.shape"
   ]
  },
  {
   "cell_type": "code",
   "execution_count": null,
   "metadata": {},
   "outputs": [],
   "source": []
  }
 ],
 "metadata": {
  "kernelspec": {
   "display_name": "mozilla_tts",
   "language": "python",
   "name": "mozilla_tts"
  },
  "language_info": {
   "codemirror_mode": {
    "name": "ipython",
    "version": 3
   },
   "file_extension": ".py",
   "mimetype": "text/x-python",
   "name": "python",
   "nbconvert_exporter": "python",
   "pygments_lexer": "ipython3",
   "version": "3.7.4"
  }
 },
 "nbformat": 4,
 "nbformat_minor": 4
}
