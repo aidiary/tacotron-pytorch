{
 "cells": [
  {
   "cell_type": "code",
   "execution_count": 79,
   "metadata": {},
   "outputs": [],
   "source": [
    "%reload_ext autoreload\n",
    "%autoreload 2"
   ]
  },
  {
   "cell_type": "code",
   "execution_count": 80,
   "metadata": {},
   "outputs": [],
   "source": [
    "import sys\n",
    "sys.path.append('..')\n",
    "\n",
    "import torch\n",
    "from model import Decoder\n",
    "from model import Attention"
   ]
  },
  {
   "cell_type": "code",
   "execution_count": 81,
   "metadata": {},
   "outputs": [],
   "source": [
    "attn = Attention(query_dim=256, embedding_dim=256, attention_dim=128)"
   ]
  },
  {
   "cell_type": "code",
   "execution_count": 82,
   "metadata": {},
   "outputs": [
    {
     "data": {
      "text/plain": [
       "Attention(\n",
       "  (query_layer): Linear(\n",
       "    (linear_layer): Linear(in_features=256, out_features=128, bias=False)\n",
       "  )\n",
       "  (inputs_layer): Linear(\n",
       "    (linear_layer): Linear(in_features=256, out_features=128, bias=False)\n",
       "  )\n",
       "  (v): Linear(\n",
       "    (linear_layer): Linear(in_features=128, out_features=1, bias=True)\n",
       "  )\n",
       "  (location_layer): LocationLayer(\n",
       "    (location_conv): Conv1d(2, 32, kernel_size=(31,), stride=(1,), padding=(15,), bias=False)\n",
       "    (location_dense): Linear(\n",
       "      (linear_layer): Linear(in_features=32, out_features=128, bias=False)\n",
       "    )\n",
       "  )\n",
       ")"
      ]
     },
     "execution_count": 82,
     "metadata": {},
     "output_type": "execute_result"
    }
   ],
   "source": [
    "attn"
   ]
  },
  {
   "cell_type": "code",
   "execution_count": 83,
   "metadata": {},
   "outputs": [],
   "source": [
    "query = torch.rand(32, 256)\n",
    "inputs = torch.rand(32, 71, 256)\n",
    "processed_inputs = torch.rand(32, 71, 128)\n",
    "mask = torch.zeros([32, 71], dtype=torch.bool)"
   ]
  },
  {
   "cell_type": "code",
   "execution_count": 84,
   "metadata": {},
   "outputs": [],
   "source": [
    "attn.init_states(inputs)\n",
    "context = attn(query, inputs, processed_inputs, mask)"
   ]
  },
  {
   "cell_type": "code",
   "execution_count": 85,
   "metadata": {},
   "outputs": [
    {
     "data": {
      "text/plain": [
       "torch.Size([32, 256])"
      ]
     },
     "execution_count": 85,
     "metadata": {},
     "output_type": "execute_result"
    }
   ],
   "source": [
    "context.shape"
   ]
  },
  {
   "cell_type": "code",
   "execution_count": 86,
   "metadata": {},
   "outputs": [],
   "source": [
    "decoder = Decoder(in_features=256, memory_dim=80, r=7)"
   ]
  },
  {
   "cell_type": "code",
   "execution_count": 87,
   "metadata": {},
   "outputs": [
    {
     "data": {
      "text/plain": [
       "Decoder(\n",
       "  (prenet): Prenet(\n",
       "    (layers): ModuleList(\n",
       "      (0): Linear(\n",
       "        (linear_layer): Linear(in_features=80, out_features=256, bias=True)\n",
       "      )\n",
       "      (1): Linear(\n",
       "        (linear_layer): Linear(in_features=256, out_features=128, bias=True)\n",
       "      )\n",
       "    )\n",
       "  )\n",
       "  (attention_rnn): GRUCell(384, 256)\n",
       "  (attention): Attention(\n",
       "    (query_layer): Linear(\n",
       "      (linear_layer): Linear(in_features=256, out_features=128, bias=False)\n",
       "    )\n",
       "    (inputs_layer): Linear(\n",
       "      (linear_layer): Linear(in_features=256, out_features=128, bias=False)\n",
       "    )\n",
       "    (v): Linear(\n",
       "      (linear_layer): Linear(in_features=128, out_features=1, bias=True)\n",
       "    )\n",
       "    (location_layer): LocationLayer(\n",
       "      (location_conv): Conv1d(2, 32, kernel_size=(31,), stride=(1,), padding=(15,), bias=False)\n",
       "      (location_dense): Linear(\n",
       "        (linear_layer): Linear(in_features=32, out_features=128, bias=False)\n",
       "      )\n",
       "    )\n",
       "  )\n",
       "  (project_to_decoder_in): Linear(in_features=512, out_features=256, bias=True)\n",
       "  (decoder_rnns): ModuleList(\n",
       "    (0): GRUCell(256, 256)\n",
       "    (1): GRUCell(256, 256)\n",
       "  )\n",
       "  (proj_to_mel): Linear(in_features=256, out_features=560, bias=True)\n",
       "  (stopnet): StopNet(\n",
       "    (dropout): Dropout(p=0.1, inplace=False)\n",
       "    (linear): Linear(in_features=816, out_features=1, bias=True)\n",
       "  )\n",
       ")"
      ]
     },
     "execution_count": 87,
     "metadata": {},
     "output_type": "execute_result"
    }
   ],
   "source": [
    "decoder"
   ]
  },
  {
   "cell_type": "code",
   "execution_count": 88,
   "metadata": {},
   "outputs": [],
   "source": [
    "inputs = torch.rand(32, 71, 256)  # encoderの出力\n",
    "memory = torch.rand(32, 231, 80)  # decoderへ入力するメルスペクトログラム\n",
    "mask = torch.zeros([32, 71], dtype=torch.bool)"
   ]
  },
  {
   "cell_type": "code",
   "execution_count": 89,
   "metadata": {},
   "outputs": [],
   "source": [
    "mel_outputs, alignments, stop_tokens = decoder(inputs, memory, mask)"
   ]
  },
  {
   "cell_type": "code",
   "execution_count": 90,
   "metadata": {},
   "outputs": [
    {
     "data": {
      "text/plain": [
       "torch.Size([32, 33, 560])"
      ]
     },
     "execution_count": 90,
     "metadata": {},
     "output_type": "execute_result"
    }
   ],
   "source": [
    "mel_outputs.shape"
   ]
  },
  {
   "cell_type": "code",
   "execution_count": 91,
   "metadata": {},
   "outputs": [
    {
     "data": {
      "text/plain": [
       "torch.Size([32, 33, 71])"
      ]
     },
     "execution_count": 91,
     "metadata": {},
     "output_type": "execute_result"
    }
   ],
   "source": [
    "alignments.shape"
   ]
  },
  {
   "cell_type": "code",
   "execution_count": 92,
   "metadata": {},
   "outputs": [
    {
     "data": {
      "text/plain": [
       "torch.Size([32, 33])"
      ]
     },
     "execution_count": 92,
     "metadata": {},
     "output_type": "execute_result"
    }
   ],
   "source": [
    "stop_tokens.shape"
   ]
  },
  {
   "cell_type": "code",
   "execution_count": null,
   "metadata": {},
   "outputs": [],
   "source": []
  }
 ],
 "metadata": {
  "kernelspec": {
   "display_name": "mozilla_tts",
   "language": "python",
   "name": "mozilla_tts"
  },
  "language_info": {
   "codemirror_mode": {
    "name": "ipython",
    "version": 3
   },
   "file_extension": ".py",
   "mimetype": "text/x-python",
   "name": "python",
   "nbconvert_exporter": "python",
   "pygments_lexer": "ipython3",
   "version": "3.7.4"
  }
 },
 "nbformat": 4,
 "nbformat_minor": 4
}
