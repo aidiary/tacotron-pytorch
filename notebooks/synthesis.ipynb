{
 "cells": [
  {
   "cell_type": "code",
   "execution_count": 9,
   "metadata": {},
   "outputs": [],
   "source": [
    "import sys\n",
    "sys.path.append('..')"
   ]
  },
  {
   "cell_type": "code",
   "execution_count": 15,
   "metadata": {},
   "outputs": [],
   "source": [
    "import os\n",
    "import numpy as np\n",
    "import torch\n",
    "from model import Tacotron\n",
    "from utils.text import phoneme_to_sequence\n",
    "from utils.text.symbols import phonemes\n",
    "from utils.audio import AudioProcessor"
   ]
  },
  {
   "cell_type": "code",
   "execution_count": 18,
   "metadata": {},
   "outputs": [
    {
     "data": {
      "text/plain": [
       "device(type='cuda', index=3)"
      ]
     },
     "execution_count": 18,
     "metadata": {},
     "output_type": "execute_result"
    }
   ],
   "source": [
    "gpu_id = 3\n",
    "device = torch.device('cuda:{}'.format(gpu_id)\n",
    "                      if torch.cuda.is_available() else 'cpu')\n",
    "device"
   ]
  },
  {
   "cell_type": "code",
   "execution_count": 12,
   "metadata": {},
   "outputs": [
    {
     "name": "stdout",
     "output_type": "stream",
     "text": [
      "AudioProcessor\n",
      "  sample_rate:22050\n",
      "  num_mels:80\n",
      "  num_freq:1025\n",
      "  frame_length_ms:50\n",
      "  frame_shift_ms:12.5\n",
      "  preemphasis:0.98\n",
      "  min_level_db:-100\n",
      "  ref_level_db:20\n",
      "  power:1.5\n",
      "  mel_fmin:0.0\n",
      "  mel_fmax:8000.0\n",
      "  griffin_lim_iters:60\n",
      "  n_fft:2048\n",
      "  hop_length:275\n",
      "  win_length:1100\n"
     ]
    }
   ],
   "source": [
    "ap = AudioProcessor()"
   ]
  },
  {
   "cell_type": "code",
   "execution_count": 13,
   "metadata": {},
   "outputs": [],
   "source": [
    "num_chars = len(phonemes)"
   ]
  },
  {
   "cell_type": "code",
   "execution_count": 19,
   "metadata": {},
   "outputs": [],
   "source": [
    "model = Tacotron(num_chars).to(device)"
   ]
  },
  {
   "cell_type": "code",
   "execution_count": 34,
   "metadata": {},
   "outputs": [
    {
     "data": {
      "text/plain": [
       "dict_keys(['model', 'optimizer', 'optimizer_st', 'step', 'epoch', 'linear_loss'])"
      ]
     },
     "execution_count": 34,
     "metadata": {},
     "output_type": "execute_result"
    }
   ],
   "source": [
    "model_path = '../runs/finished/Oct04_17-14-49_K-00030-LIN/checkpoint_370000.pth'\n",
    "cp = torch.load(model_path)\n",
    "cp.keys()"
   ]
  },
  {
   "cell_type": "markdown",
   "metadata": {},
   "source": [
    "- このlinear_lossはstepの値なのでTensorBoardに記録されている平均lossよりも低めにでることがある"
   ]
  },
  {
   "cell_type": "code",
   "execution_count": 37,
   "metadata": {},
   "outputs": [
    {
     "data": {
      "text/plain": [
       "(986, 370000, 0.4926067888736725)"
      ]
     },
     "execution_count": 37,
     "metadata": {},
     "output_type": "execute_result"
    }
   ],
   "source": [
    "cp['epoch'], cp['step'], cp['linear_loss']"
   ]
  },
  {
   "cell_type": "code",
   "execution_count": 64,
   "metadata": {},
   "outputs": [
    {
     "data": {
      "text/plain": [
       "<All keys matched successfully>"
      ]
     },
     "execution_count": 64,
     "metadata": {},
     "output_type": "execute_result"
    }
   ],
   "source": [
    "model.load_state_dict(cp['model'])"
   ]
  },
  {
   "cell_type": "code",
   "execution_count": 79,
   "metadata": {},
   "outputs": [],
   "source": [
    "text = 'Be a voice, not an echo.'"
   ]
  },
  {
   "cell_type": "code",
   "execution_count": 80,
   "metadata": {},
   "outputs": [],
   "source": [
    "inputs = phoneme_to_sequence(text, ['phoneme_cleaners'], language='en-us', enable_eos_bos=False)"
   ]
  },
  {
   "cell_type": "code",
   "execution_count": 81,
   "metadata": {},
   "outputs": [
    {
     "name": "stdout",
     "output_type": "stream",
     "text": [
      "[4, 10, 110, 128, 39, 128, 23, 43, 63, 20, 122, 128, 15, 40, 110, 21, 128, 39, 15, 128, 50, 12, 16, 89, 124]\n"
     ]
    }
   ],
   "source": [
    "print(inputs)  # 音素ID系列"
   ]
  },
  {
   "cell_type": "code",
   "execution_count": 82,
   "metadata": {},
   "outputs": [],
   "source": [
    "inputs = np.asarray(inputs, dtype=np.int32)\n",
    "inputs = torch.from_numpy(inputs).unsqueeze(0).long().to(device)"
   ]
  },
  {
   "cell_type": "code",
   "execution_count": 83,
   "metadata": {},
   "outputs": [
    {
     "data": {
      "text/plain": [
       "tensor([[  4,  10, 110, 128,  39, 128,  23,  43,  63,  20, 122, 128,  15,  40,\n",
       "         110,  21, 128,  39,  15, 128,  50,  12,  16,  89, 124]],\n",
       "       device='cuda:3')"
      ]
     },
     "execution_count": 83,
     "metadata": {},
     "output_type": "execute_result"
    }
   ],
   "source": [
    "inputs"
   ]
  },
  {
   "cell_type": "code",
   "execution_count": 84,
   "metadata": {},
   "outputs": [
    {
     "name": "stdout",
     "output_type": "stream",
     "text": [
      "torch.Size([1, 25])\n"
     ]
    }
   ],
   "source": [
    "print(inputs.shape)"
   ]
  },
  {
   "cell_type": "code",
   "execution_count": 85,
   "metadata": {},
   "outputs": [],
   "source": [
    "decoder_output, postnet_output, alignments, stop_tokens = model.inference(inputs)"
   ]
  },
  {
   "cell_type": "markdown",
   "metadata": {},
   "source": [
    "- alignmentsとstop_tokensはrフレームまとめたセグメントが単位\n",
    "- 実際のフレーム数は 24 * 7 = 168"
   ]
  },
  {
   "cell_type": "code",
   "execution_count": 86,
   "metadata": {},
   "outputs": [
    {
     "name": "stdout",
     "output_type": "stream",
     "text": [
      "torch.Size([1, 161, 80])\n",
      "torch.Size([1, 161, 1025])\n",
      "torch.Size([1, 23, 25])\n",
      "torch.Size([1, 23])\n"
     ]
    }
   ],
   "source": [
    "print(decoder_output.shape)  # mel spectrogram\n",
    "print(postnet_output.shape)  # linear spectrogram\n",
    "print(alignments.shape)\n",
    "print(stop_tokens.shape)"
   ]
  },
  {
   "cell_type": "markdown",
   "metadata": {},
   "source": [
    "## アラインメントの可視化"
   ]
  },
  {
   "cell_type": "code",
   "execution_count": 87,
   "metadata": {},
   "outputs": [],
   "source": [
    "alignment = alignments[0]"
   ]
  },
  {
   "cell_type": "code",
   "execution_count": 88,
   "metadata": {},
   "outputs": [
    {
     "data": {
      "text/plain": [
       "torch.Size([23, 25])"
      ]
     },
     "execution_count": 88,
     "metadata": {},
     "output_type": "execute_result"
    }
   ],
   "source": [
    "alignment.shape"
   ]
  },
  {
   "cell_type": "code",
   "execution_count": 90,
   "metadata": {},
   "outputs": [],
   "source": [
    "alignment = alignment.data.cpu().numpy()"
   ]
  },
  {
   "cell_type": "code",
   "execution_count": 95,
   "metadata": {},
   "outputs": [
    {
     "data": {
      "text/plain": [
       "Text(0, 0.5, 'Encoder timestep (phonemes)')"
      ]
     },
     "execution_count": 95,
     "metadata": {},
     "output_type": "execute_result"
    },
    {
     "data": {
      "image/png": "[encoded data removed]",
      "text/plain": [
       "<Figure size 432x288 with 2 Axes>"
      ]
     },
     "metadata": {
      "needs_background": "light"
     },
     "output_type": "display_data"
    }
   ],
   "source": [
    "plt.imshow(alignment.T, aspect='auto', origin='lower', interpolation='none');\n",
    "plt.colorbar()\n",
    "plt.xlabel('Decoder timestep (segments)')\n",
    "plt.ylabel('Encoder timestep (phonemes)')"
   ]
  },
  {
   "cell_type": "code",
   "execution_count": null,
   "metadata": {},
   "outputs": [],
   "source": []
  }
 ],
 "metadata": {
  "kernelspec": {
   "display_name": "mozilla_tts",
   "language": "python",
   "name": "mozilla_tts"
  },
  "language_info": {
   "codemirror_mode": {
    "name": "ipython",
    "version": 3
   },
   "file_extension": ".py",
   "mimetype": "text/x-python",
   "name": "python",
   "nbconvert_exporter": "python",
   "pygments_lexer": "ipython3",
   "version": "3.7.4"
  }
 },
 "nbformat": 4,
 "nbformat_minor": 4
}
