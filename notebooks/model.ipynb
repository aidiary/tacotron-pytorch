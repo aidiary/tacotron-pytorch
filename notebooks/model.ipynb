{
 "cells": [
  {
   "cell_type": "code",
   "execution_count": 1,
   "metadata": {},
   "outputs": [],
   "source": [
    "import sys\n",
    "sys.path.append('..')\n",
    "\n",
    "import torch\n",
    "import torch.nn as nn"
   ]
  },
  {
   "cell_type": "code",
   "execution_count": 2,
   "metadata": {},
   "outputs": [],
   "source": [
    "from model import BatchNormConv1d, CBHG, Prenet, Highway, Encoder"
   ]
  },
  {
   "cell_type": "code",
   "execution_count": 3,
   "metadata": {},
   "outputs": [],
   "source": [
    "layer = BatchNormConv1d(256, 128, kernel_size=3, stride=1, padding=[1, 1], activation=nn.ReLU())"
   ]
  },
  {
   "cell_type": "code",
   "execution_count": 4,
   "metadata": {},
   "outputs": [
    {
     "data": {
      "text/plain": [
       "BatchNormConv1d(\n",
       "  (padder): ConstantPad1d(padding=[1, 1], value=0)\n",
       "  (conv1d): Conv1d(256, 128, kernel_size=(3,), stride=(1,), bias=False)\n",
       "  (bn): BatchNorm1d(128, eps=0.001, momentum=0.99, affine=True, track_running_stats=True)\n",
       "  (activation): ReLU()\n",
       ")"
      ]
     },
     "execution_count": 4,
     "metadata": {},
     "output_type": "execute_result"
    }
   ],
   "source": [
    "layer"
   ]
  },
  {
   "cell_type": "code",
   "execution_count": 5,
   "metadata": {},
   "outputs": [],
   "source": [
    "input = torch.randn(32, 256, 64)  # (batch, input_size, seq_len)\n",
    "output = layer(input)"
   ]
  },
  {
   "cell_type": "code",
   "execution_count": 6,
   "metadata": {},
   "outputs": [
    {
     "data": {
      "text/plain": [
       "torch.Size([32, 128, 64])"
      ]
     },
     "execution_count": 6,
     "metadata": {},
     "output_type": "execute_result"
    }
   ],
   "source": [
    "output.shape"
   ]
  },
  {
   "cell_type": "code",
   "execution_count": 7,
   "metadata": {},
   "outputs": [
    {
     "data": {
      "text/plain": [
       "torch.Size([32, 256, 66])"
      ]
     },
     "execution_count": 7,
     "metadata": {},
     "output_type": "execute_result"
    }
   ],
   "source": [
    "x = layer.padder(input)\n",
    "x.shape"
   ]
  },
  {
   "cell_type": "code",
   "execution_count": 8,
   "metadata": {},
   "outputs": [
    {
     "data": {
      "text/plain": [
       "torch.Size([32, 128, 64])"
      ]
     },
     "execution_count": 8,
     "metadata": {},
     "output_type": "execute_result"
    }
   ],
   "source": [
    "x = layer.conv1d(x)\n",
    "x.shape"
   ]
  },
  {
   "cell_type": "code",
   "execution_count": 9,
   "metadata": {},
   "outputs": [
    {
     "data": {
      "text/plain": [
       "torch.Size([32, 128, 64])"
      ]
     },
     "execution_count": 9,
     "metadata": {},
     "output_type": "execute_result"
    }
   ],
   "source": [
    "x = layer.bn(x)\n",
    "x.shape"
   ]
  },
  {
   "cell_type": "code",
   "execution_count": 10,
   "metadata": {},
   "outputs": [
    {
     "name": "stdout",
     "output_type": "stream",
     "text": [
      "1 [0, 0]\n",
      "2 [0, 1]\n",
      "3 [1, 1]\n",
      "4 [1, 2]\n",
      "5 [2, 2]\n",
      "6 [2, 3]\n",
      "7 [3, 3]\n",
      "8 [3, 4]\n",
      "9 [4, 4]\n",
      "10 [4, 5]\n",
      "11 [5, 5]\n",
      "12 [5, 6]\n",
      "13 [6, 6]\n",
      "14 [6, 7]\n",
      "15 [7, 7]\n",
      "16 [7, 8]\n"
     ]
    }
   ],
   "source": [
    "for k in range(1, 17):\n",
    "    print(k, [(k - 1) // 2, k // 2])"
   ]
  },
  {
   "cell_type": "code",
   "execution_count": 11,
   "metadata": {},
   "outputs": [
    {
     "data": {
      "text/plain": [
       "Prenet(\n",
       "  (layers): ModuleList(\n",
       "    (0): Linear(\n",
       "      (linear_layer): Linear(in_features=128, out_features=256, bias=True)\n",
       "    )\n",
       "    (1): Linear(\n",
       "      (linear_layer): Linear(in_features=256, out_features=256, bias=True)\n",
       "    )\n",
       "  )\n",
       ")"
      ]
     },
     "execution_count": 11,
     "metadata": {},
     "output_type": "execute_result"
    }
   ],
   "source": [
    "pre = Prenet(128, out_features=[256, 256])\n",
    "pre"
   ]
  },
  {
   "cell_type": "code",
   "execution_count": 12,
   "metadata": {},
   "outputs": [
    {
     "data": {
      "text/plain": [
       "CBHG(\n",
       "  (relu): ReLU()\n",
       "  (conv1d_banks): ModuleList(\n",
       "    (0): BatchNormConv1d(\n",
       "      (padder): ConstantPad1d(padding=[0, 0], value=0)\n",
       "      (conv1d): Conv1d(256, 128, kernel_size=(1,), stride=(1,), bias=False)\n",
       "      (bn): BatchNorm1d(128, eps=0.001, momentum=0.99, affine=True, track_running_stats=True)\n",
       "      (activation): ReLU()\n",
       "    )\n",
       "    (1): BatchNormConv1d(\n",
       "      (padder): ConstantPad1d(padding=[0, 1], value=0)\n",
       "      (conv1d): Conv1d(256, 128, kernel_size=(2,), stride=(1,), bias=False)\n",
       "      (bn): BatchNorm1d(128, eps=0.001, momentum=0.99, affine=True, track_running_stats=True)\n",
       "      (activation): ReLU()\n",
       "    )\n",
       "    (2): BatchNormConv1d(\n",
       "      (padder): ConstantPad1d(padding=[1, 1], value=0)\n",
       "      (conv1d): Conv1d(256, 128, kernel_size=(3,), stride=(1,), bias=False)\n",
       "      (bn): BatchNorm1d(128, eps=0.001, momentum=0.99, affine=True, track_running_stats=True)\n",
       "      (activation): ReLU()\n",
       "    )\n",
       "    (3): BatchNormConv1d(\n",
       "      (padder): ConstantPad1d(padding=[1, 2], value=0)\n",
       "      (conv1d): Conv1d(256, 128, kernel_size=(4,), stride=(1,), bias=False)\n",
       "      (bn): BatchNorm1d(128, eps=0.001, momentum=0.99, affine=True, track_running_stats=True)\n",
       "      (activation): ReLU()\n",
       "    )\n",
       "    (4): BatchNormConv1d(\n",
       "      (padder): ConstantPad1d(padding=[2, 2], value=0)\n",
       "      (conv1d): Conv1d(256, 128, kernel_size=(5,), stride=(1,), bias=False)\n",
       "      (bn): BatchNorm1d(128, eps=0.001, momentum=0.99, affine=True, track_running_stats=True)\n",
       "      (activation): ReLU()\n",
       "    )\n",
       "    (5): BatchNormConv1d(\n",
       "      (padder): ConstantPad1d(padding=[2, 3], value=0)\n",
       "      (conv1d): Conv1d(256, 128, kernel_size=(6,), stride=(1,), bias=False)\n",
       "      (bn): BatchNorm1d(128, eps=0.001, momentum=0.99, affine=True, track_running_stats=True)\n",
       "      (activation): ReLU()\n",
       "    )\n",
       "    (6): BatchNormConv1d(\n",
       "      (padder): ConstantPad1d(padding=[3, 3], value=0)\n",
       "      (conv1d): Conv1d(256, 128, kernel_size=(7,), stride=(1,), bias=False)\n",
       "      (bn): BatchNorm1d(128, eps=0.001, momentum=0.99, affine=True, track_running_stats=True)\n",
       "      (activation): ReLU()\n",
       "    )\n",
       "    (7): BatchNormConv1d(\n",
       "      (padder): ConstantPad1d(padding=[3, 4], value=0)\n",
       "      (conv1d): Conv1d(256, 128, kernel_size=(8,), stride=(1,), bias=False)\n",
       "      (bn): BatchNorm1d(128, eps=0.001, momentum=0.99, affine=True, track_running_stats=True)\n",
       "      (activation): ReLU()\n",
       "    )\n",
       "    (8): BatchNormConv1d(\n",
       "      (padder): ConstantPad1d(padding=[4, 4], value=0)\n",
       "      (conv1d): Conv1d(256, 128, kernel_size=(9,), stride=(1,), bias=False)\n",
       "      (bn): BatchNorm1d(128, eps=0.001, momentum=0.99, affine=True, track_running_stats=True)\n",
       "      (activation): ReLU()\n",
       "    )\n",
       "    (9): BatchNormConv1d(\n",
       "      (padder): ConstantPad1d(padding=[4, 5], value=0)\n",
       "      (conv1d): Conv1d(256, 128, kernel_size=(10,), stride=(1,), bias=False)\n",
       "      (bn): BatchNorm1d(128, eps=0.001, momentum=0.99, affine=True, track_running_stats=True)\n",
       "      (activation): ReLU()\n",
       "    )\n",
       "    (10): BatchNormConv1d(\n",
       "      (padder): ConstantPad1d(padding=[5, 5], value=0)\n",
       "      (conv1d): Conv1d(256, 128, kernel_size=(11,), stride=(1,), bias=False)\n",
       "      (bn): BatchNorm1d(128, eps=0.001, momentum=0.99, affine=True, track_running_stats=True)\n",
       "      (activation): ReLU()\n",
       "    )\n",
       "    (11): BatchNormConv1d(\n",
       "      (padder): ConstantPad1d(padding=[5, 6], value=0)\n",
       "      (conv1d): Conv1d(256, 128, kernel_size=(12,), stride=(1,), bias=False)\n",
       "      (bn): BatchNorm1d(128, eps=0.001, momentum=0.99, affine=True, track_running_stats=True)\n",
       "      (activation): ReLU()\n",
       "    )\n",
       "    (12): BatchNormConv1d(\n",
       "      (padder): ConstantPad1d(padding=[6, 6], value=0)\n",
       "      (conv1d): Conv1d(256, 128, kernel_size=(13,), stride=(1,), bias=False)\n",
       "      (bn): BatchNorm1d(128, eps=0.001, momentum=0.99, affine=True, track_running_stats=True)\n",
       "      (activation): ReLU()\n",
       "    )\n",
       "    (13): BatchNormConv1d(\n",
       "      (padder): ConstantPad1d(padding=[6, 7], value=0)\n",
       "      (conv1d): Conv1d(256, 128, kernel_size=(14,), stride=(1,), bias=False)\n",
       "      (bn): BatchNorm1d(128, eps=0.001, momentum=0.99, affine=True, track_running_stats=True)\n",
       "      (activation): ReLU()\n",
       "    )\n",
       "    (14): BatchNormConv1d(\n",
       "      (padder): ConstantPad1d(padding=[7, 7], value=0)\n",
       "      (conv1d): Conv1d(256, 128, kernel_size=(15,), stride=(1,), bias=False)\n",
       "      (bn): BatchNorm1d(128, eps=0.001, momentum=0.99, affine=True, track_running_stats=True)\n",
       "      (activation): ReLU()\n",
       "    )\n",
       "    (15): BatchNormConv1d(\n",
       "      (padder): ConstantPad1d(padding=[7, 8], value=0)\n",
       "      (conv1d): Conv1d(256, 128, kernel_size=(16,), stride=(1,), bias=False)\n",
       "      (bn): BatchNorm1d(128, eps=0.001, momentum=0.99, affine=True, track_running_stats=True)\n",
       "      (activation): ReLU()\n",
       "    )\n",
       "  )\n",
       "  (conv1d_projections): ModuleList(\n",
       "    (0): BatchNormConv1d(\n",
       "      (padder): ConstantPad1d(padding=[1, 1], value=0)\n",
       "      (conv1d): Conv1d(2048, 128, kernel_size=(3,), stride=(1,), bias=False)\n",
       "      (bn): BatchNorm1d(128, eps=0.001, momentum=0.99, affine=True, track_running_stats=True)\n",
       "      (activation): ReLU()\n",
       "    )\n",
       "    (1): BatchNormConv1d(\n",
       "      (padder): ConstantPad1d(padding=[1, 1], value=0)\n",
       "      (conv1d): Conv1d(128, 128, kernel_size=(3,), stride=(1,), bias=False)\n",
       "      (bn): BatchNorm1d(128, eps=0.001, momentum=0.99, affine=True, track_running_stats=True)\n",
       "    )\n",
       "  )\n",
       "  (highways): ModuleList(\n",
       "    (0): Highway(\n",
       "      (H): Linear(in_features=128, out_features=128, bias=True)\n",
       "      (T): Linear(in_features=128, out_features=128, bias=True)\n",
       "      (relu): ReLU()\n",
       "      (sigmoid): Sigmoid()\n",
       "    )\n",
       "    (1): Highway(\n",
       "      (H): Linear(in_features=128, out_features=128, bias=True)\n",
       "      (T): Linear(in_features=128, out_features=128, bias=True)\n",
       "      (relu): ReLU()\n",
       "      (sigmoid): Sigmoid()\n",
       "    )\n",
       "    (2): Highway(\n",
       "      (H): Linear(in_features=128, out_features=128, bias=True)\n",
       "      (T): Linear(in_features=128, out_features=128, bias=True)\n",
       "      (relu): ReLU()\n",
       "      (sigmoid): Sigmoid()\n",
       "    )\n",
       "    (3): Highway(\n",
       "      (H): Linear(in_features=128, out_features=128, bias=True)\n",
       "      (T): Linear(in_features=128, out_features=128, bias=True)\n",
       "      (relu): ReLU()\n",
       "      (sigmoid): Sigmoid()\n",
       "    )\n",
       "  )\n",
       "  (gru): GRU(128, 128, batch_first=True, bidirectional=True)\n",
       ")"
      ]
     },
     "execution_count": 12,
     "metadata": {},
     "output_type": "execute_result"
    }
   ],
   "source": [
    "cbhg = CBHG(256)\n",
    "cbhg"
   ]
  },
  {
   "cell_type": "code",
   "execution_count": 13,
   "metadata": {},
   "outputs": [
    {
     "data": {
      "text/plain": [
       "Highway(\n",
       "  (H): Linear(in_features=128, out_features=128, bias=True)\n",
       "  (T): Linear(in_features=128, out_features=128, bias=True)\n",
       "  (relu): ReLU()\n",
       "  (sigmoid): Sigmoid()\n",
       ")"
      ]
     },
     "execution_count": 13,
     "metadata": {},
     "output_type": "execute_result"
    }
   ],
   "source": [
    "highway = Highway(128, 128)\n",
    "highway"
   ]
  },
  {
   "cell_type": "code",
   "execution_count": 14,
   "metadata": {},
   "outputs": [
    {
     "data": {
      "text/plain": [
       "Encoder(\n",
       "  (prenet): Prenet(\n",
       "    (layers): ModuleList(\n",
       "      (0): Linear(\n",
       "        (linear_layer): Linear(in_features=256, out_features=256, bias=True)\n",
       "      )\n",
       "      (1): Linear(\n",
       "        (linear_layer): Linear(in_features=256, out_features=128, bias=True)\n",
       "      )\n",
       "    )\n",
       "  )\n",
       "  (cbhg): CBHG(\n",
       "    (relu): ReLU()\n",
       "    (conv1d_banks): ModuleList(\n",
       "      (0): BatchNormConv1d(\n",
       "        (padder): ConstantPad1d(padding=[0, 0], value=0)\n",
       "        (conv1d): Conv1d(128, 128, kernel_size=(1,), stride=(1,), bias=False)\n",
       "        (bn): BatchNorm1d(128, eps=0.001, momentum=0.99, affine=True, track_running_stats=True)\n",
       "        (activation): ReLU()\n",
       "      )\n",
       "      (1): BatchNormConv1d(\n",
       "        (padder): ConstantPad1d(padding=[0, 1], value=0)\n",
       "        (conv1d): Conv1d(128, 128, kernel_size=(2,), stride=(1,), bias=False)\n",
       "        (bn): BatchNorm1d(128, eps=0.001, momentum=0.99, affine=True, track_running_stats=True)\n",
       "        (activation): ReLU()\n",
       "      )\n",
       "      (2): BatchNormConv1d(\n",
       "        (padder): ConstantPad1d(padding=[1, 1], value=0)\n",
       "        (conv1d): Conv1d(128, 128, kernel_size=(3,), stride=(1,), bias=False)\n",
       "        (bn): BatchNorm1d(128, eps=0.001, momentum=0.99, affine=True, track_running_stats=True)\n",
       "        (activation): ReLU()\n",
       "      )\n",
       "      (3): BatchNormConv1d(\n",
       "        (padder): ConstantPad1d(padding=[1, 2], value=0)\n",
       "        (conv1d): Conv1d(128, 128, kernel_size=(4,), stride=(1,), bias=False)\n",
       "        (bn): BatchNorm1d(128, eps=0.001, momentum=0.99, affine=True, track_running_stats=True)\n",
       "        (activation): ReLU()\n",
       "      )\n",
       "      (4): BatchNormConv1d(\n",
       "        (padder): ConstantPad1d(padding=[2, 2], value=0)\n",
       "        (conv1d): Conv1d(128, 128, kernel_size=(5,), stride=(1,), bias=False)\n",
       "        (bn): BatchNorm1d(128, eps=0.001, momentum=0.99, affine=True, track_running_stats=True)\n",
       "        (activation): ReLU()\n",
       "      )\n",
       "      (5): BatchNormConv1d(\n",
       "        (padder): ConstantPad1d(padding=[2, 3], value=0)\n",
       "        (conv1d): Conv1d(128, 128, kernel_size=(6,), stride=(1,), bias=False)\n",
       "        (bn): BatchNorm1d(128, eps=0.001, momentum=0.99, affine=True, track_running_stats=True)\n",
       "        (activation): ReLU()\n",
       "      )\n",
       "      (6): BatchNormConv1d(\n",
       "        (padder): ConstantPad1d(padding=[3, 3], value=0)\n",
       "        (conv1d): Conv1d(128, 128, kernel_size=(7,), stride=(1,), bias=False)\n",
       "        (bn): BatchNorm1d(128, eps=0.001, momentum=0.99, affine=True, track_running_stats=True)\n",
       "        (activation): ReLU()\n",
       "      )\n",
       "      (7): BatchNormConv1d(\n",
       "        (padder): ConstantPad1d(padding=[3, 4], value=0)\n",
       "        (conv1d): Conv1d(128, 128, kernel_size=(8,), stride=(1,), bias=False)\n",
       "        (bn): BatchNorm1d(128, eps=0.001, momentum=0.99, affine=True, track_running_stats=True)\n",
       "        (activation): ReLU()\n",
       "      )\n",
       "      (8): BatchNormConv1d(\n",
       "        (padder): ConstantPad1d(padding=[4, 4], value=0)\n",
       "        (conv1d): Conv1d(128, 128, kernel_size=(9,), stride=(1,), bias=False)\n",
       "        (bn): BatchNorm1d(128, eps=0.001, momentum=0.99, affine=True, track_running_stats=True)\n",
       "        (activation): ReLU()\n",
       "      )\n",
       "      (9): BatchNormConv1d(\n",
       "        (padder): ConstantPad1d(padding=[4, 5], value=0)\n",
       "        (conv1d): Conv1d(128, 128, kernel_size=(10,), stride=(1,), bias=False)\n",
       "        (bn): BatchNorm1d(128, eps=0.001, momentum=0.99, affine=True, track_running_stats=True)\n",
       "        (activation): ReLU()\n",
       "      )\n",
       "      (10): BatchNormConv1d(\n",
       "        (padder): ConstantPad1d(padding=[5, 5], value=0)\n",
       "        (conv1d): Conv1d(128, 128, kernel_size=(11,), stride=(1,), bias=False)\n",
       "        (bn): BatchNorm1d(128, eps=0.001, momentum=0.99, affine=True, track_running_stats=True)\n",
       "        (activation): ReLU()\n",
       "      )\n",
       "      (11): BatchNormConv1d(\n",
       "        (padder): ConstantPad1d(padding=[5, 6], value=0)\n",
       "        (conv1d): Conv1d(128, 128, kernel_size=(12,), stride=(1,), bias=False)\n",
       "        (bn): BatchNorm1d(128, eps=0.001, momentum=0.99, affine=True, track_running_stats=True)\n",
       "        (activation): ReLU()\n",
       "      )\n",
       "      (12): BatchNormConv1d(\n",
       "        (padder): ConstantPad1d(padding=[6, 6], value=0)\n",
       "        (conv1d): Conv1d(128, 128, kernel_size=(13,), stride=(1,), bias=False)\n",
       "        (bn): BatchNorm1d(128, eps=0.001, momentum=0.99, affine=True, track_running_stats=True)\n",
       "        (activation): ReLU()\n",
       "      )\n",
       "      (13): BatchNormConv1d(\n",
       "        (padder): ConstantPad1d(padding=[6, 7], value=0)\n",
       "        (conv1d): Conv1d(128, 128, kernel_size=(14,), stride=(1,), bias=False)\n",
       "        (bn): BatchNorm1d(128, eps=0.001, momentum=0.99, affine=True, track_running_stats=True)\n",
       "        (activation): ReLU()\n",
       "      )\n",
       "      (14): BatchNormConv1d(\n",
       "        (padder): ConstantPad1d(padding=[7, 7], value=0)\n",
       "        (conv1d): Conv1d(128, 128, kernel_size=(15,), stride=(1,), bias=False)\n",
       "        (bn): BatchNorm1d(128, eps=0.001, momentum=0.99, affine=True, track_running_stats=True)\n",
       "        (activation): ReLU()\n",
       "      )\n",
       "      (15): BatchNormConv1d(\n",
       "        (padder): ConstantPad1d(padding=[7, 8], value=0)\n",
       "        (conv1d): Conv1d(128, 128, kernel_size=(16,), stride=(1,), bias=False)\n",
       "        (bn): BatchNorm1d(128, eps=0.001, momentum=0.99, affine=True, track_running_stats=True)\n",
       "        (activation): ReLU()\n",
       "      )\n",
       "    )\n",
       "    (conv1d_projections): ModuleList(\n",
       "      (0): BatchNormConv1d(\n",
       "        (padder): ConstantPad1d(padding=[1, 1], value=0)\n",
       "        (conv1d): Conv1d(2048, 128, kernel_size=(3,), stride=(1,), bias=False)\n",
       "        (bn): BatchNorm1d(128, eps=0.001, momentum=0.99, affine=True, track_running_stats=True)\n",
       "        (activation): ReLU()\n",
       "      )\n",
       "      (1): BatchNormConv1d(\n",
       "        (padder): ConstantPad1d(padding=[1, 1], value=0)\n",
       "        (conv1d): Conv1d(128, 128, kernel_size=(3,), stride=(1,), bias=False)\n",
       "        (bn): BatchNorm1d(128, eps=0.001, momentum=0.99, affine=True, track_running_stats=True)\n",
       "      )\n",
       "    )\n",
       "    (highways): ModuleList(\n",
       "      (0): Highway(\n",
       "        (H): Linear(in_features=128, out_features=128, bias=True)\n",
       "        (T): Linear(in_features=128, out_features=128, bias=True)\n",
       "        (relu): ReLU()\n",
       "        (sigmoid): Sigmoid()\n",
       "      )\n",
       "      (1): Highway(\n",
       "        (H): Linear(in_features=128, out_features=128, bias=True)\n",
       "        (T): Linear(in_features=128, out_features=128, bias=True)\n",
       "        (relu): ReLU()\n",
       "        (sigmoid): Sigmoid()\n",
       "      )\n",
       "      (2): Highway(\n",
       "        (H): Linear(in_features=128, out_features=128, bias=True)\n",
       "        (T): Linear(in_features=128, out_features=128, bias=True)\n",
       "        (relu): ReLU()\n",
       "        (sigmoid): Sigmoid()\n",
       "      )\n",
       "      (3): Highway(\n",
       "        (H): Linear(in_features=128, out_features=128, bias=True)\n",
       "        (T): Linear(in_features=128, out_features=128, bias=True)\n",
       "        (relu): ReLU()\n",
       "        (sigmoid): Sigmoid()\n",
       "      )\n",
       "    )\n",
       "    (gru): GRU(128, 128, batch_first=True, bidirectional=True)\n",
       "  )\n",
       ")"
      ]
     },
     "execution_count": 14,
     "metadata": {},
     "output_type": "execute_result"
    }
   ],
   "source": [
    "encoder = Encoder(256)\n",
    "encoder"
   ]
  },
  {
   "cell_type": "code",
   "execution_count": 15,
   "metadata": {},
   "outputs": [
    {
     "data": {
      "text/plain": [
       "torch.Size([32, 71, 256])"
      ]
     },
     "execution_count": 15,
     "metadata": {},
     "output_type": "execute_result"
    }
   ],
   "source": [
    "inputs = torch.rand(32, 71, 256)\n",
    "inputs.shape"
   ]
  },
  {
   "cell_type": "code",
   "execution_count": 17,
   "metadata": {},
   "outputs": [
    {
     "data": {
      "text/plain": [
       "torch.Size([32, 71, 256])"
      ]
     },
     "execution_count": 17,
     "metadata": {},
     "output_type": "execute_result"
    }
   ],
   "source": [
    "encoder_outputs = encoder(inputs)\n",
    "encoder_outputs.shape"
   ]
  },
  {
   "cell_type": "code",
   "execution_count": null,
   "metadata": {},
   "outputs": [],
   "source": []
  }
 ],
 "metadata": {
  "kernelspec": {
   "display_name": "Python 3",
   "language": "python",
   "name": "python3"
  },
  "language_info": {
   "codemirror_mode": {
    "name": "ipython",
    "version": 3
   },
   "file_extension": ".py",
   "mimetype": "text/x-python",
   "name": "python",
   "nbconvert_exporter": "python",
   "pygments_lexer": "ipython3",
   "version": "3.7.4"
  },
  "nbTranslate": {
   "displayLangs": [
    "*"
   ],
   "hotkey": "alt-t",
   "langInMainMenu": true,
   "sourceLang": "en",
   "targetLang": "fr",
   "useGoogleTranslate": true
  }
 },
 "nbformat": 4,
 "nbformat_minor": 4
}
